{
  "nbformat": 4,
  "nbformat_minor": 0,
  "metadata": {
    "colab": {
      "name": "getting_data_from_api.ipynb",
      "provenance": [],
      "collapsed_sections": [],
      "include_colab_link": true
    },
    "kernelspec": {
      "display_name": "Python 3",
      "language": "python",
      "name": "python3"
    },
    "language_info": {
      "codemirror_mode": {
        "name": "ipython",
        "version": 3
      },
      "file_extension": ".py",
      "mimetype": "text/x-python",
      "name": "python",
      "nbconvert_exporter": "python",
      "pygments_lexer": "ipython3",
      "version": "3.7.6"
    }
  },
  "cells": [
    {
      "cell_type": "markdown",
      "metadata": {
        "id": "view-in-github",
        "colab_type": "text"
      },
      "source": [
        "<a href=\"https://colab.research.google.com/github/mariajosemv/Exploring-the-Bitcoin-Cryptocurrency-Market/blob/main/getting_data_from_api.ipynb\" target=\"_parent\"><img src=\"https://colab.research.google.com/assets/colab-badge.svg\" alt=\"Open In Colab\"/></a>"
      ]
    },
    {
      "cell_type": "markdown",
      "metadata": {
        "id": "ynDw2-sHS5og"
      },
      "source": [
        "# Initial Settings for Google Colab"
      ]
    },
    {
      "cell_type": "code",
      "metadata": {
        "colab": {
          "base_uri": "https://localhost:8080/"
        },
        "id": "eN7v-FBeTAAs",
        "outputId": "06c89b05-4c0d-493f-ad55-283a366b640a"
      },
      "source": [
        "from google.colab import drive\n",
        "drive.mount('/content/drive')\n",
        "\n",
        "%cd '/content/drive/My Drive/Colab Notebooks/DataCamp-Projects/exploring-cryptocurrencies'\n",
        "%ls"
      ],
      "execution_count": null,
      "outputs": [
        {
          "output_type": "stream",
          "text": [
            "Mounted at /content/drive\n",
            "/content/drive/My Drive/Colab Notebooks/DataCamp-Projects/exploring-cryptocurrencies\n",
            "getting_data_from_api.ipynb\n"
          ],
          "name": "stdout"
        }
      ]
    },
    {
      "cell_type": "markdown",
      "metadata": {
        "id": "LVrIknDjPRWX"
      },
      "source": [
        "# Getting the data\n",
        "\n",
        "The information about the current cryptocurrency market capitalization will be load from the [coinmarketcap API](https://coinmarketcap.com/). \n",
        "\n",
        "> **Important**: *If you want to replicate this code and get the current market cap, you must get another valid API-KEY on [CoinMarketCap](https://coinmarketcap.com/) and replace it in the code below.*\n",
        "\n",
        "\n"
      ]
    },
    {
      "cell_type": "code",
      "metadata": {
        "colab": {
          "base_uri": "https://localhost:8080/"
        },
        "id": "5Qb7QXBRPQM_",
        "outputId": "579a2064-6419-49db-a136-5060e8660bf7"
      },
      "source": [
        "from requests import Request, Session\n",
        "from requests.exceptions import ConnectionError, Timeout, TooManyRedirects\n",
        "import json\n",
        "\n",
        "url = 'https://pro-api.coinmarketcap.com/v1/cryptocurrency/listings/latest'\n",
        "parameters = {\n",
        "  'start': 1,\n",
        "  'limit': 1000,\n",
        "  'sort':'market_cap'\n",
        "}\n",
        "headers = {\n",
        "  'Accepts': 'application/json',\n",
        "  'X-CMC_PRO_API_KEY': '09a08d1e-4090-485b-a0de-89b9c9584340',\n",
        "}\n",
        "\n",
        "session = Session()\n",
        "session.headers.update(headers)\n",
        "\n",
        "try:\n",
        "  response = session.get(url, params=parameters)\n",
        "  data = json.loads(response.text)\n",
        "  print(f\"data loaded!\")\n",
        "except (ConnectionError, Timeout, TooManyRedirects) as e:\n",
        "  print(e)"
      ],
      "execution_count": null,
      "outputs": [
        {
          "output_type": "stream",
          "text": [
            "data loaded!\n"
          ],
          "name": "stdout"
        }
      ]
    },
    {
      "cell_type": "markdown",
      "metadata": {
        "id": "VXjbNWp9SOM1"
      },
      "source": [
        "Now that the data is downloaded, we briefly explore the dataset to see what we got. "
      ]
    },
    {
      "cell_type": "code",
      "metadata": {
        "id": "w-kFJCF8ScFZ"
      },
      "source": [
        "import pandas as pd\n",
        "import numpy as np \n",
        "\n",
        "df = pd.DataFrame(data['data'])"
      ],
      "execution_count": null,
      "outputs": []
    },
    {
      "cell_type": "code",
      "metadata": {
        "colab": {
          "base_uri": "https://localhost:8080/",
          "height": 372
        },
        "id": "TrzD4Wk7IOpm",
        "outputId": "b66a21bc-2884-4bce-fe77-e6935e133456"
      },
      "source": [
        "df.head(3)"
      ],
      "execution_count": null,
      "outputs": [
        {
          "output_type": "execute_result",
          "data": {
            "text/html": [
              "<div>\n",
              "<style scoped>\n",
              "    .dataframe tbody tr th:only-of-type {\n",
              "        vertical-align: middle;\n",
              "    }\n",
              "\n",
              "    .dataframe tbody tr th {\n",
              "        vertical-align: top;\n",
              "    }\n",
              "\n",
              "    .dataframe thead th {\n",
              "        text-align: right;\n",
              "    }\n",
              "</style>\n",
              "<table border=\"1\" class=\"dataframe\">\n",
              "  <thead>\n",
              "    <tr style=\"text-align: right;\">\n",
              "      <th></th>\n",
              "      <th>id</th>\n",
              "      <th>name</th>\n",
              "      <th>symbol</th>\n",
              "      <th>slug</th>\n",
              "      <th>num_market_pairs</th>\n",
              "      <th>date_added</th>\n",
              "      <th>tags</th>\n",
              "      <th>max_supply</th>\n",
              "      <th>circulating_supply</th>\n",
              "      <th>total_supply</th>\n",
              "      <th>platform</th>\n",
              "      <th>cmc_rank</th>\n",
              "      <th>last_updated</th>\n",
              "      <th>quote</th>\n",
              "    </tr>\n",
              "  </thead>\n",
              "  <tbody>\n",
              "    <tr>\n",
              "      <th>0</th>\n",
              "      <td>1</td>\n",
              "      <td>Bitcoin</td>\n",
              "      <td>BTC</td>\n",
              "      <td>bitcoin</td>\n",
              "      <td>9747</td>\n",
              "      <td>2013-04-28T00:00:00.000Z</td>\n",
              "      <td>[mineable, pow, sha-256, store-of-value, state...</td>\n",
              "      <td>21000000.0</td>\n",
              "      <td>1.859682e+07</td>\n",
              "      <td>1.859682e+07</td>\n",
              "      <td>None</td>\n",
              "      <td>1</td>\n",
              "      <td>2021-01-11T01:53:02.000Z</td>\n",
              "      <td>{'USD': {'price': 36879.86458253049, 'volume_2...</td>\n",
              "    </tr>\n",
              "    <tr>\n",
              "      <th>1</th>\n",
              "      <td>1027</td>\n",
              "      <td>Ethereum</td>\n",
              "      <td>ETH</td>\n",
              "      <td>ethereum</td>\n",
              "      <td>5947</td>\n",
              "      <td>2015-08-07T00:00:00.000Z</td>\n",
              "      <td>[mineable, pow, smart-contracts]</td>\n",
              "      <td>NaN</td>\n",
              "      <td>1.142004e+08</td>\n",
              "      <td>1.142004e+08</td>\n",
              "      <td>None</td>\n",
              "      <td>2</td>\n",
              "      <td>2021-01-11T01:53:02.000Z</td>\n",
              "      <td>{'USD': {'price': 1196.9983573740908, 'volume_...</td>\n",
              "    </tr>\n",
              "    <tr>\n",
              "      <th>2</th>\n",
              "      <td>825</td>\n",
              "      <td>Tether</td>\n",
              "      <td>USDT</td>\n",
              "      <td>tether</td>\n",
              "      <td>9889</td>\n",
              "      <td>2015-02-25T00:00:00.000Z</td>\n",
              "      <td>[store-of-value, payments, stablecoin, stablec...</td>\n",
              "      <td>NaN</td>\n",
              "      <td>2.427181e+10</td>\n",
              "      <td>2.478163e+10</td>\n",
              "      <td>{'id': 1027, 'name': 'Ethereum', 'symbol': 'ET...</td>\n",
              "      <td>3</td>\n",
              "      <td>2021-01-11T01:53:07.000Z</td>\n",
              "      <td>{'USD': {'price': 0.9997187185141, 'volume_24h...</td>\n",
              "    </tr>\n",
              "  </tbody>\n",
              "</table>\n",
              "</div>"
            ],
            "text/plain": [
              "     id  ...                                              quote\n",
              "0     1  ...  {'USD': {'price': 36879.86458253049, 'volume_2...\n",
              "1  1027  ...  {'USD': {'price': 1196.9983573740908, 'volume_...\n",
              "2   825  ...  {'USD': {'price': 0.9997187185141, 'volume_24h...\n",
              "\n",
              "[3 rows x 14 columns]"
            ]
          },
          "metadata": {
            "tags": []
          },
          "execution_count": 4
        }
      ]
    },
    {
      "cell_type": "markdown",
      "metadata": {
        "id": "nVR3djBuAqc2"
      },
      "source": [
        "The dataset looks fine except for the columns `'tags'` and `'quote'`. The first one it will be not used so we can drop it, but the second one, i.e. quote column, it contains the vital information that is required for this analysis. Therefore, in this case we check the recent loaded JSON to identify the format that the `'quote'` feature has."
      ]
    },
    {
      "cell_type": "code",
      "metadata": {
        "colab": {
          "base_uri": "https://localhost:8080/"
        },
        "id": "u8HW4ru1VHVW",
        "outputId": "d6672919-f499-49a0-a94f-5199c28b09ea"
      },
      "source": [
        "data['data'][0]"
      ],
      "execution_count": null,
      "outputs": [
        {
          "output_type": "execute_result",
          "data": {
            "text/plain": [
              "{'circulating_supply': 18596825,\n",
              " 'cmc_rank': 1,\n",
              " 'date_added': '2013-04-28T00:00:00.000Z',\n",
              " 'id': 1,\n",
              " 'last_updated': '2021-01-11T01:53:02.000Z',\n",
              " 'max_supply': 21000000,\n",
              " 'name': 'Bitcoin',\n",
              " 'num_market_pairs': 9747,\n",
              " 'platform': None,\n",
              " 'quote': {'USD': {'last_updated': '2021-01-11T01:53:02.000Z',\n",
              "   'market_cap': 685848387665.0176,\n",
              "   'percent_change_1h': -4.17062327,\n",
              "   'percent_change_24h': -9.46465197,\n",
              "   'percent_change_7d': 12.83371557,\n",
              "   'price': 36879.86458253049,\n",
              "   'volume_24h': 79448280993.27394}},\n",
              " 'slug': 'bitcoin',\n",
              " 'symbol': 'BTC',\n",
              " 'tags': ['mineable', 'pow', 'sha-256', 'store-of-value', 'state-channels'],\n",
              " 'total_supply': 18596825}"
            ]
          },
          "metadata": {
            "tags": []
          },
          "execution_count": 5
        }
      ]
    },
    {
      "cell_type": "markdown",
      "metadata": {
        "id": "En2QAxlsBlf2"
      },
      "source": [
        "Here, we see that `'quote'` contains the keys and values required for this project, so then, the next step is to extract this information and save it in another dataframe for later concatenate with the main one. "
      ]
    },
    {
      "cell_type": "code",
      "metadata": {
        "id": "4ql_rBAB9ZIE"
      },
      "source": [
        "df_mc = pd.DataFrame()\n",
        "\n",
        "\n",
        "for i in np.arange(len(data['data'])):\n",
        "  index_ = data['data'][i]['quote']['USD']\n",
        "  df_i = pd.DataFrame.from_dict([index_])\n",
        "  df_mc = pd.concat([df_mc, df_i], sort=False)\n",
        "  df_mc.reset_index(drop=True, inplace=True) \n"
      ],
      "execution_count": null,
      "outputs": []
    },
    {
      "cell_type": "code",
      "metadata": {
        "colab": {
          "base_uri": "https://localhost:8080/",
          "height": 226
        },
        "id": "L3ShdKWiL77a",
        "outputId": "1f24b0b1-48a3-4fab-9eb3-475eb7db2af6"
      },
      "source": [
        "df_mc.head()"
      ],
      "execution_count": null,
      "outputs": [
        {
          "output_type": "execute_result",
          "data": {
            "text/html": [
              "<div>\n",
              "<style scoped>\n",
              "    .dataframe tbody tr th:only-of-type {\n",
              "        vertical-align: middle;\n",
              "    }\n",
              "\n",
              "    .dataframe tbody tr th {\n",
              "        vertical-align: top;\n",
              "    }\n",
              "\n",
              "    .dataframe thead th {\n",
              "        text-align: right;\n",
              "    }\n",
              "</style>\n",
              "<table border=\"1\" class=\"dataframe\">\n",
              "  <thead>\n",
              "    <tr style=\"text-align: right;\">\n",
              "      <th></th>\n",
              "      <th>price</th>\n",
              "      <th>volume_24h</th>\n",
              "      <th>percent_change_1h</th>\n",
              "      <th>percent_change_24h</th>\n",
              "      <th>percent_change_7d</th>\n",
              "      <th>market_cap</th>\n",
              "      <th>last_updated</th>\n",
              "    </tr>\n",
              "  </thead>\n",
              "  <tbody>\n",
              "    <tr>\n",
              "      <th>0</th>\n",
              "      <td>36879.864583</td>\n",
              "      <td>7.944828e+10</td>\n",
              "      <td>-4.170623</td>\n",
              "      <td>-9.464652</td>\n",
              "      <td>12.833716</td>\n",
              "      <td>6.858484e+11</td>\n",
              "      <td>2021-01-11T01:53:02.000Z</td>\n",
              "    </tr>\n",
              "    <tr>\n",
              "      <th>1</th>\n",
              "      <td>1196.998357</td>\n",
              "      <td>3.932000e+10</td>\n",
              "      <td>-5.533442</td>\n",
              "      <td>-7.430299</td>\n",
              "      <td>22.447485</td>\n",
              "      <td>1.366977e+11</td>\n",
              "      <td>2021-01-11T01:53:02.000Z</td>\n",
              "    </tr>\n",
              "    <tr>\n",
              "      <th>2</th>\n",
              "      <td>0.999719</td>\n",
              "      <td>1.341662e+11</td>\n",
              "      <td>-0.045812</td>\n",
              "      <td>-0.221235</td>\n",
              "      <td>-0.023216</td>\n",
              "      <td>2.426499e+10</td>\n",
              "      <td>2021-01-11T01:53:07.000Z</td>\n",
              "    </tr>\n",
              "    <tr>\n",
              "      <th>3</th>\n",
              "      <td>0.302537</td>\n",
              "      <td>9.538569e+09</td>\n",
              "      <td>-4.774535</td>\n",
              "      <td>-9.312490</td>\n",
              "      <td>32.802597</td>\n",
              "      <td>1.373638e+10</td>\n",
              "      <td>2021-01-11T01:54:02.000Z</td>\n",
              "    </tr>\n",
              "    <tr>\n",
              "      <th>4</th>\n",
              "      <td>164.493605</td>\n",
              "      <td>1.231376e+10</td>\n",
              "      <td>-4.048837</td>\n",
              "      <td>-7.708016</td>\n",
              "      <td>3.453726</td>\n",
              "      <td>1.089698e+10</td>\n",
              "      <td>2021-01-11T01:54:02.000Z</td>\n",
              "    </tr>\n",
              "  </tbody>\n",
              "</table>\n",
              "</div>"
            ],
            "text/plain": [
              "          price    volume_24h  ...    market_cap              last_updated\n",
              "0  36879.864583  7.944828e+10  ...  6.858484e+11  2021-01-11T01:53:02.000Z\n",
              "1   1196.998357  3.932000e+10  ...  1.366977e+11  2021-01-11T01:53:02.000Z\n",
              "2      0.999719  1.341662e+11  ...  2.426499e+10  2021-01-11T01:53:07.000Z\n",
              "3      0.302537  9.538569e+09  ...  1.373638e+10  2021-01-11T01:54:02.000Z\n",
              "4    164.493605  1.231376e+10  ...  1.089698e+10  2021-01-11T01:54:02.000Z\n",
              "\n",
              "[5 rows x 7 columns]"
            ]
          },
          "metadata": {
            "tags": []
          },
          "execution_count": 7
        }
      ]
    },
    {
      "cell_type": "markdown",
      "metadata": {
        "id": "esBZOUxmK52X"
      },
      "source": [
        "The dataframe looks very well, so we can finally concat `df_mc` with the principal dataframe `df`, and drop the undesired columns"
      ]
    },
    {
      "cell_type": "code",
      "metadata": {
        "id": "1YNVWwJhV9MV"
      },
      "source": [
        "df = pd.concat([df, df_mc],axis=1)"
      ],
      "execution_count": null,
      "outputs": []
    },
    {
      "cell_type": "code",
      "metadata": {
        "colab": {
          "base_uri": "https://localhost:8080/"
        },
        "id": "_DVig7EbMCmK",
        "outputId": "ffb57998-a885-40ba-b2f0-c94c54ce93e0"
      },
      "source": [
        "df.columns"
      ],
      "execution_count": null,
      "outputs": [
        {
          "output_type": "execute_result",
          "data": {
            "text/plain": [
              "Index(['id', 'name', 'symbol', 'slug', 'num_market_pairs', 'date_added',\n",
              "       'tags', 'max_supply', 'circulating_supply', 'total_supply', 'platform',\n",
              "       'cmc_rank', 'last_updated', 'quote', 'price', 'volume_24h',\n",
              "       'percent_change_1h', 'percent_change_24h', 'percent_change_7d',\n",
              "       'market_cap', 'last_updated'],\n",
              "      dtype='object')"
            ]
          },
          "metadata": {
            "tags": []
          },
          "execution_count": 9
        }
      ]
    },
    {
      "cell_type": "code",
      "metadata": {
        "id": "J2iBuE3PMFAq"
      },
      "source": [
        "df.drop(['quote', 'last_updated', 'tags'], axis=1, inplace=True)"
      ],
      "execution_count": null,
      "outputs": []
    },
    {
      "cell_type": "code",
      "metadata": {
        "id": "Cb41jLFtMWr2"
      },
      "source": [
        "df.to_csv('/datasets/coinmarketcap_10_01_2021.csv')"
      ],
      "execution_count": null,
      "outputs": []
    }
  ]
}